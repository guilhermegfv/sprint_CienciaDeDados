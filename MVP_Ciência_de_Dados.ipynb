{
  "nbformat": 4,
  "nbformat_minor": 0,
  "metadata": {
    "colab": {
      "provenance": [],
      "include_colab_link": true
    },
    "kernelspec": {
      "name": "python3",
      "display_name": "Python 3"
    },
    "language_info": {
      "name": "python"
    }
  },
  "cells": [
    {
      "cell_type": "markdown",
      "metadata": {
        "id": "view-in-github",
        "colab_type": "text"
      },
      "source": [
        "<a href=\"https://colab.research.google.com/github/guilhermegfv/sprint_CienciaDeDados/blob/main/MVP_Ci%C3%AAncia_de_Dados.ipynb\" target=\"_parent\"><img src=\"https://colab.research.google.com/assets/colab-badge.svg\" alt=\"Open In Colab\"/></a>"
      ]
    },
    {
      "cell_type": "markdown",
      "source": [
        "# Introdução"
      ],
      "metadata": {
        "id": "o1yTS2yHOKqf"
      }
    },
    {
      "cell_type": "markdown",
      "source": [
        "O dataset escolhido foi encontrado no kaggle e diz respeito a um extenso histórico de todas corridas e sessões relevantes ao campeonato de Fórmula 1.\n",
        "\n",
        "[Link do kaggle](https://www.kaggle.com/datasets/rohanrao/formula-1-world-championship-1950-2020)\n",
        "\n",
        "Dentro desse contexto, existem algumas variáveis importantes que afetam na performance, como:\n",
        "\n",
        "\n",
        "*   Piloto (individualidade na direção)\n",
        "*   Circuito e sua altitude\n",
        "*   Rodada dentro do campeonato (históricamente os carros evoluem durante o ano)\n",
        "*   Horário do dia (implica nas condições climáticas que não estão inclusas neste dataset)\n",
        "*   E outras variáveis que serão selecionadas no notebook\n",
        "\n",
        "Um contexto importante dentro deste estudo é que de tempos em tempos, todo o regulamento do campeonato muda, afetando significativamente a performance dos carros. A última mudança foi a partir de 2022. Por esse motivo, utilizaremos somente os anos de 2022, 2023 e 2024.\n",
        "\n",
        "O desafio deste projeto está em estimar a melhor volta de cada piloto em cada circuito, realizando uma observação geral sobre performance de cada um em cada pista e determinadas condições."
      ],
      "metadata": {
        "id": "7ptVHRxsN3jC"
      }
    },
    {
      "cell_type": "markdown",
      "source": [
        "# Preparo do dataset"
      ],
      "metadata": {
        "id": "qECCYSMeNw-n"
      }
    },
    {
      "cell_type": "markdown",
      "source": [
        "Importar bibliotecas necessárias"
      ],
      "metadata": {
        "id": "U49n_dgANuJb"
      }
    },
    {
      "cell_type": "code",
      "source": [
        "import kagglehub\n",
        "import os\n",
        "import pandas as pd\n",
        "import numpy as np\n",
        "import matplotlib.pyplot as plt\n",
        "from sklearn.model_selection import train_test_split, cross_val_score, KFold\n",
        "from sklearn.linear_model import LinearRegression, Ridge, Lasso\n",
        "from sklearn.ensemble import RandomForestRegressor\n",
        "from sklearn.metrics import mean_squared_error, r2_score, make_scorer\n",
        "from sklearn.neighbors import KNeighborsRegressor\n",
        "from sklearn.tree import DecisionTreeRegressor\n",
        "from sklearn.svm import SVR\n"
      ],
      "metadata": {
        "id": "w5wVkoCR-zzq"
      },
      "execution_count": 1,
      "outputs": []
    },
    {
      "cell_type": "markdown",
      "source": [
        "Download dos dados"
      ],
      "metadata": {
        "id": "7YMSFfsvPxms"
      }
    },
    {
      "cell_type": "code",
      "source": [
        "path = kagglehub.dataset_download(\"rohanrao/formula-1-world-championship-1950-2020\")\n",
        "\n",
        "print(\"Path to dataset files:\", path)\n",
        "print(os.listdir(path))"
      ],
      "metadata": {
        "colab": {
          "base_uri": "https://localhost:8080/"
        },
        "id": "vyCmN8xA-ZQV",
        "outputId": "de831a40-e33f-4583-95a2-0f3b7bcc94bb"
      },
      "execution_count": 2,
      "outputs": [
        {
          "output_type": "stream",
          "name": "stdout",
          "text": [
            "Path to dataset files: /root/.cache/kagglehub/datasets/rohanrao/formula-1-world-championship-1950-2020/versions/23\n",
            "['status.csv', 'sprint_results.csv', 'seasons.csv', 'constructor_results.csv', 'lap_times.csv', 'races.csv', 'pit_stops.csv', 'results.csv', 'drivers.csv', 'constructors.csv', 'constructor_standings.csv', 'circuits.csv', 'driver_standings.csv', 'qualifying.csv']\n"
          ]
        }
      ]
    },
    {
      "cell_type": "markdown",
      "source": [
        "Lista das tabelas baixadas"
      ],
      "metadata": {
        "id": "r8k5WpEvPzbl"
      }
    },
    {
      "cell_type": "code",
      "source": [
        "lista_tabelas = os.listdir(path)\n",
        "lista_tabelas = [tab.replace('.csv', '') for tab in lista_tabelas]\n",
        "dataframes = {}\n",
        "print(lista_tabelas)"
      ],
      "metadata": {
        "colab": {
          "base_uri": "https://localhost:8080/"
        },
        "id": "ZdQq3SIkAhwt",
        "outputId": "8f000e8d-d02f-470e-913d-8e9bdd8ce5a0"
      },
      "execution_count": 3,
      "outputs": [
        {
          "output_type": "stream",
          "name": "stdout",
          "text": [
            "['status', 'sprint_results', 'seasons', 'constructor_results', 'lap_times', 'races', 'pit_stops', 'results', 'drivers', 'constructors', 'constructor_standings', 'circuits', 'driver_standings', 'qualifying']\n"
          ]
        }
      ]
    },
    {
      "cell_type": "markdown",
      "source": [
        "Visualização de todas tabelas e colunas em cada uma delas.\n",
        "Foi necessário para selecionar apenas o necessário."
      ],
      "metadata": {
        "id": "Ro9PEG4TP2Cx"
      }
    },
    {
      "cell_type": "code",
      "source": [
        "for tab in lista_tabelas:\n",
        "    file_name = f\"{tab}.csv\"\n",
        "    data = pd.read_csv(os.path.join(path, file_name))\n",
        "    dataframes[f\"{tab}\"] = data\n",
        "    print(f\"Colunas de {tab}:\")\n",
        "    print(data.columns)"
      ],
      "metadata": {
        "colab": {
          "base_uri": "https://localhost:8080/"
        },
        "id": "eAz4ri9kAeNG",
        "outputId": "ec9bf5dd-4f95-4ca2-951e-1ea7e01288aa",
        "collapsed": true
      },
      "execution_count": 4,
      "outputs": [
        {
          "output_type": "stream",
          "name": "stdout",
          "text": [
            "Colunas de status:\n",
            "Index(['statusId', 'status'], dtype='object')\n",
            "Colunas de sprint_results:\n",
            "Index(['resultId', 'raceId', 'driverId', 'constructorId', 'number', 'grid',\n",
            "       'position', 'positionText', 'positionOrder', 'points', 'laps', 'time',\n",
            "       'milliseconds', 'fastestLap', 'fastestLapTime', 'statusId'],\n",
            "      dtype='object')\n",
            "Colunas de seasons:\n",
            "Index(['year', 'url'], dtype='object')\n",
            "Colunas de constructor_results:\n",
            "Index(['constructorResultsId', 'raceId', 'constructorId', 'points', 'status'], dtype='object')\n",
            "Colunas de lap_times:\n",
            "Index(['raceId', 'driverId', 'lap', 'position', 'time', 'milliseconds'], dtype='object')\n",
            "Colunas de races:\n",
            "Index(['raceId', 'year', 'round', 'circuitId', 'name', 'date', 'time', 'url',\n",
            "       'fp1_date', 'fp1_time', 'fp2_date', 'fp2_time', 'fp3_date', 'fp3_time',\n",
            "       'quali_date', 'quali_time', 'sprint_date', 'sprint_time'],\n",
            "      dtype='object')\n",
            "Colunas de pit_stops:\n",
            "Index(['raceId', 'driverId', 'stop', 'lap', 'time', 'duration',\n",
            "       'milliseconds'],\n",
            "      dtype='object')\n",
            "Colunas de results:\n",
            "Index(['resultId', 'raceId', 'driverId', 'constructorId', 'number', 'grid',\n",
            "       'position', 'positionText', 'positionOrder', 'points', 'laps', 'time',\n",
            "       'milliseconds', 'fastestLap', 'rank', 'fastestLapTime',\n",
            "       'fastestLapSpeed', 'statusId'],\n",
            "      dtype='object')\n",
            "Colunas de drivers:\n",
            "Index(['driverId', 'driverRef', 'number', 'code', 'forename', 'surname', 'dob',\n",
            "       'nationality', 'url'],\n",
            "      dtype='object')\n",
            "Colunas de constructors:\n",
            "Index(['constructorId', 'constructorRef', 'name', 'nationality', 'url'], dtype='object')\n",
            "Colunas de constructor_standings:\n",
            "Index(['constructorStandingsId', 'raceId', 'constructorId', 'points',\n",
            "       'position', 'positionText', 'wins'],\n",
            "      dtype='object')\n",
            "Colunas de circuits:\n",
            "Index(['circuitId', 'circuitRef', 'name', 'location', 'country', 'lat', 'lng',\n",
            "       'alt', 'url'],\n",
            "      dtype='object')\n",
            "Colunas de driver_standings:\n",
            "Index(['driverStandingsId', 'raceId', 'driverId', 'points', 'position',\n",
            "       'positionText', 'wins'],\n",
            "      dtype='object')\n",
            "Colunas de qualifying:\n",
            "Index(['qualifyId', 'raceId', 'driverId', 'constructorId', 'number',\n",
            "       'position', 'q1', 'q2', 'q3'],\n",
            "      dtype='object')\n"
          ]
        }
      ]
    },
    {
      "cell_type": "markdown",
      "source": [
        "Funções de conversão da string de tempo para número inteiro de milisegundos, e vice versa"
      ],
      "metadata": {
        "id": "cGHcS_kSP8wX"
      }
    },
    {
      "cell_type": "code",
      "source": [
        "def time_to_milliseconds(time_str):\n",
        "    if isinstance(time_str, str):\n",
        "        try:\n",
        "            minutes, rest = time_str.split(':')\n",
        "            seconds, milliseconds = rest.split('.')\n",
        "            total_milliseconds = (int(minutes) * 60000 + int(seconds) * 1000 + int(milliseconds))\n",
        "            return total_milliseconds\n",
        "        except ValueError:\n",
        "            return np.nan\n",
        "    # If it's not a string, return NaN (or handle it differently if needed)\n",
        "    else:\n",
        "        return np.nan\n",
        "\n",
        "def milliseconds_to_time(ms):\n",
        "    if pd.isna(ms):  # Check if ms is NaN\n",
        "        return np.nan  # Return NaN if it is\n",
        "    minutes = ms // 60000\n",
        "    seconds = (ms % 60000) / 1000\n",
        "    return f\"{int(minutes)}:{seconds:06.3f}\""
      ],
      "metadata": {
        "id": "8tXtZ75q46ta"
      },
      "execution_count": 5,
      "outputs": []
    },
    {
      "cell_type": "markdown",
      "source": [
        "Preparo da tabela de corridas. Filtro de temporadas e seleção de colunas.\n",
        "\n",
        "Também foi salvo em uma lista as corridas das temporadas selecionadas, a fim de filtrar as demais tabelas."
      ],
      "metadata": {
        "id": "4qfNe986QsYg"
      }
    },
    {
      "cell_type": "code",
      "source": [
        "df_races = dataframes['races']\n",
        "df_races = df_races[['raceId', 'year', 'circuitId','round','name','date','time','quali_time']]\n",
        "df_races = df_races[df_races['year'] >= 2022]\n",
        "df_races.rename(columns={'time': 'time_of_day'}, inplace=True)\n",
        "\n",
        "print(df_races)\n",
        "\n",
        "\n",
        "corridas = df_races['raceId'].unique()\n",
        "corridas = corridas.tolist()\n",
        "print(corridas)"
      ],
      "metadata": {
        "colab": {
          "base_uri": "https://localhost:8080/"
        },
        "id": "IFA1s1ivCXQp",
        "outputId": "03138902-2453-42a9-d16f-3389b5aa236b"
      },
      "execution_count": 6,
      "outputs": [
        {
          "output_type": "stream",
          "name": "stdout",
          "text": [
            "      raceId  year  circuitId  round                       name        date  \\\n",
            "1036    1074  2022          3      1         Bahrain Grand Prix  2022-03-20   \n",
            "1058    1075  2022         77      2   Saudi Arabian Grand Prix  2022-03-27   \n",
            "1059    1076  2022          1      3      Australian Grand Prix  2022-04-10   \n",
            "1060    1077  2022         21      4  Emilia Romagna Grand Prix  2022-04-24   \n",
            "1061    1078  2022         79      5           Miami Grand Prix  2022-05-08   \n",
            "...      ...   ...        ...    ...                        ...         ...   \n",
            "1120    1140  2024         32     20     Mexico City Grand Prix  2024-10-27   \n",
            "1121    1141  2024         18     21       São Paulo Grand Prix  2024-11-03   \n",
            "1122    1142  2024         80     22       Las Vegas Grand Prix  2024-11-23   \n",
            "1123    1143  2024         78     23           Qatar Grand Prix  2024-12-01   \n",
            "1124    1144  2024         24     24       Abu Dhabi Grand Prix  2024-12-08   \n",
            "\n",
            "     time_of_day quali_time  \n",
            "1036    15:00:00   15:00:00  \n",
            "1058    17:00:00   17:00:00  \n",
            "1059    05:00:00   06:00:00  \n",
            "1060    13:00:00   15:00:00  \n",
            "1061    19:30:00   20:00:00  \n",
            "...          ...        ...  \n",
            "1120    20:00:00   21:00:00  \n",
            "1121    17:00:00   18:00:00  \n",
            "1122    06:00:00   06:00:00  \n",
            "1123    17:00:00   17:00:00  \n",
            "1124    13:00:00   14:00:00  \n",
            "\n",
            "[68 rows x 8 columns]\n",
            "[1074, 1075, 1076, 1077, 1078, 1079, 1080, 1081, 1082, 1083, 1084, 1085, 1086, 1087, 1088, 1089, 1091, 1092, 1093, 1094, 1095, 1096, 1098, 1099, 1100, 1101, 1102, 1104, 1105, 1106, 1107, 1108, 1109, 1110, 1111, 1112, 1113, 1114, 1115, 1116, 1117, 1118, 1119, 1120, 1121, 1122, 1123, 1124, 1125, 1126, 1127, 1128, 1129, 1130, 1131, 1132, 1133, 1134, 1135, 1136, 1137, 1138, 1139, 1140, 1141, 1142, 1143, 1144]\n"
          ]
        }
      ]
    },
    {
      "cell_type": "markdown",
      "source": [
        "Preparo da tabela de tempos de volta, mas até o momento não utilizada."
      ],
      "metadata": {
        "id": "OjAZ-GT6Q7xD"
      }
    },
    {
      "cell_type": "code",
      "source": [
        "df_lap_times = dataframes['lap_times']\n",
        "df_lap_times = df_lap_times[df_lap_times['raceId'].isin(corridas)]\n",
        "print(df_lap_times)"
      ],
      "metadata": {
        "colab": {
          "base_uri": "https://localhost:8080/"
        },
        "id": "cfc0WzgDBg1x",
        "outputId": "025f6a69-10e7-4341-bc14-c4c32cd42196"
      },
      "execution_count": 7,
      "outputs": [
        {
          "output_type": "stream",
          "name": "stdout",
          "text": [
            "        raceId  driverId  lap  position      time  milliseconds\n",
            "514592    1074       844    1         1  1:39.070         99070\n",
            "514593    1074       844    2         1  1:37.853         97853\n",
            "514594    1074       844    3         1  1:38.272         98272\n",
            "514595    1074       844    4         1  1:38.414         98414\n",
            "514596    1074       844    5         1  1:38.471         98471\n",
            "...        ...       ...  ...       ...       ...           ...\n",
            "575024    1131       858   65        19  1:10.742         70742\n",
            "575025    1131       858   66        19  1:10.855         70855\n",
            "575026    1131       858   67        19  1:12.454         72454\n",
            "575027    1131       858   68        19  1:13.607         73607\n",
            "575028    1131       858   69        19  1:11.489         71489\n",
            "\n",
            "[60437 rows x 6 columns]\n"
          ]
        }
      ]
    },
    {
      "cell_type": "markdown",
      "source": [
        "Preparo da tabela de resultados, filtrando e convertendo tempo em string para tempo em milissegundos."
      ],
      "metadata": {
        "id": "yI2THC7GQ_gL"
      }
    },
    {
      "cell_type": "code",
      "source": [
        "df_results = dataframes['results']\n",
        "print(df_results.columns)\n",
        "df_results = df_results[df_results['raceId'].isin(corridas)]\n",
        "df_results = df_results[['raceId','driverId','constructorId','positionOrder','time','milliseconds','fastestLapTime']]\n",
        "\n",
        "df_results['fastestLapTime' + \"_ms\"] = df_results['fastestLapTime'].apply(time_to_milliseconds)\n",
        "\n",
        "print(df_results)\n"
      ],
      "metadata": {
        "colab": {
          "base_uri": "https://localhost:8080/"
        },
        "id": "SSuS93Z8Cg28",
        "outputId": "ba59c1fa-da0f-45b0-cae8-a04accb1ca61"
      },
      "execution_count": 8,
      "outputs": [
        {
          "output_type": "stream",
          "name": "stdout",
          "text": [
            "Index(['resultId', 'raceId', 'driverId', 'constructorId', 'number', 'grid',\n",
            "       'position', 'positionText', 'positionOrder', 'points', 'laps', 'time',\n",
            "       'milliseconds', 'fastestLap', 'rank', 'fastestLapTime',\n",
            "       'fastestLapSpeed', 'statusId'],\n",
            "      dtype='object')\n",
            "       raceId  driverId  constructorId  positionOrder         time  \\\n",
            "25400    1074       844              6              1  1:37:33.584   \n",
            "25401    1074       832              6              2       +5.598   \n",
            "25402    1074         1            131              3       +9.675   \n",
            "25403    1074       847            131              4      +11.211   \n",
            "25404    1074       825            210              5      +14.754   \n",
            "...       ...       ...            ...            ...          ...   \n",
            "26514    1132       839            214             16           \\N   \n",
            "26515    1132       815              9             17           \\N   \n",
            "26516    1132       855             15             18           \\N   \n",
            "26517    1132       847            131             19           \\N   \n",
            "26518    1132       842            214             20           \\N   \n",
            "\n",
            "      milliseconds fastestLapTime  fastestLapTime_ms  \n",
            "25400      5853584       1:34.570            94570.0  \n",
            "25401      5859182       1:35.740            95740.0  \n",
            "25402      5863259       1:36.228            96228.0  \n",
            "25403      5864795       1:36.302            96302.0  \n",
            "25404      5868338       1:36.623            96623.0  \n",
            "...            ...            ...                ...  \n",
            "26514           \\N       1:30.875            90875.0  \n",
            "26515           \\N       1:29.707            89707.0  \n",
            "26516           \\N       1:31.014            91014.0  \n",
            "26517           \\N       1:31.298            91298.0  \n",
            "26518           \\N             \\N                NaN  \n",
            "\n",
            "[1119 rows x 8 columns]\n"
          ]
        }
      ]
    },
    {
      "cell_type": "markdown",
      "source": [
        "Tabela de pilotos, com apenas as colunas para tradução co ID para código de cada um, a fim de reconhecimento."
      ],
      "metadata": {
        "id": "NTKhknYbRF0v"
      }
    },
    {
      "cell_type": "code",
      "source": [
        "df_drivers = dataframes['drivers']\n",
        "df_drivers = df_drivers[['driverId', 'code']]\n",
        "print(df_drivers)"
      ],
      "metadata": {
        "colab": {
          "base_uri": "https://localhost:8080/"
        },
        "id": "V04CPiqEC6ZM",
        "outputId": "56a149da-6fc8-4df7-eedd-35e76a3d426b"
      },
      "execution_count": 9,
      "outputs": [
        {
          "output_type": "stream",
          "name": "stdout",
          "text": [
            "     driverId code\n",
            "0           1  HAM\n",
            "1           2  HEI\n",
            "2           3  ROS\n",
            "3           4  ALO\n",
            "4           5  KOV\n",
            "..        ...  ...\n",
            "854       856  DEV\n",
            "855       857  PIA\n",
            "856       858  SAR\n",
            "857       859  LAW\n",
            "858       860  BEA\n",
            "\n",
            "[859 rows x 2 columns]\n"
          ]
        }
      ]
    },
    {
      "cell_type": "markdown",
      "source": [
        "Tabela dos circuitos, necessária para utilizar a variável altitude no modelo."
      ],
      "metadata": {
        "id": "iWvDPAoURNhI"
      }
    },
    {
      "cell_type": "code",
      "source": [
        "df_circuits = dataframes['circuits']\n",
        "df_circuits = df_circuits[['circuitId','name','alt']]\n",
        "\n",
        "print(df_circuits)"
      ],
      "metadata": {
        "colab": {
          "base_uri": "https://localhost:8080/"
        },
        "id": "Rc31rZFGDGt6",
        "outputId": "b813c414-8706-4d5e-cd0b-1ee0abc2c909"
      },
      "execution_count": 10,
      "outputs": [
        {
          "output_type": "stream",
          "name": "stdout",
          "text": [
            "    circuitId                                  name  alt\n",
            "0           1        Albert Park Grand Prix Circuit   10\n",
            "1           2          Sepang International Circuit   18\n",
            "2           3         Bahrain International Circuit    7\n",
            "3           4        Circuit de Barcelona-Catalunya  109\n",
            "4           5                         Istanbul Park  130\n",
            "..        ...                                   ...  ...\n",
            "72         75    Autódromo Internacional do Algarve  108\n",
            "73         76  Autodromo Internazionale del Mugello  255\n",
            "74         77               Jeddah Corniche Circuit   15\n",
            "75         78          Losail International Circuit   12\n",
            "76         79         Miami International Autodrome    0\n",
            "\n",
            "[77 rows x 3 columns]\n"
          ]
        }
      ]
    },
    {
      "cell_type": "markdown",
      "source": [
        "Tabela dos treinos classificatórios. Em cada sessão, cada piloto pode fazer até 3 tempos (q1, q2, q3). Portanto, foi criada uma variável nova com o melhor tempo entre os 3 e utilizá-los no modelo."
      ],
      "metadata": {
        "id": "8GHeVhX2RRTP"
      }
    },
    {
      "cell_type": "code",
      "source": [
        "df_qualifying = dataframes['qualifying']\n",
        "df_qualifying = df_qualifying[['qualifyId','raceId','driverId','position','q1','q2','q3']]\n",
        "df_qualifying = df_qualifying[df_qualifying['raceId'].isin(corridas)]\n",
        "\n",
        "for col in [\"q1\", \"q2\", \"q3\"]:\n",
        "    df_qualifying[col + \"_ms\"] = df_qualifying[col].apply(time_to_milliseconds)\n",
        "\n",
        "df_qualifying[\"fastest_qualifying_ms\"] = df_qualifying[[\"q1_ms\", \"q2_ms\", \"q3_ms\"]].min(axis=1)\n",
        "\n",
        "df_qualifying[\"fastest_qualifying\"] = df_qualifying[\"fastest_qualifying_ms\"].apply(milliseconds_to_time)\n",
        "\n",
        "print(df_qualifying)"
      ],
      "metadata": {
        "colab": {
          "base_uri": "https://localhost:8080/"
        },
        "id": "i3ReTIxQDJtT",
        "outputId": "17903453-7131-4c78-87e6-b2533b330ff7"
      },
      "execution_count": 11,
      "outputs": [
        {
          "output_type": "stream",
          "name": "stdout",
          "text": [
            "       qualifyId  raceId  driverId  position        q1        q2        q3  \\\n",
            "9135        9176    1074       844         1  1:31.471  1:30.932  1:30.558   \n",
            "9136        9177    1074       830         2  1:31.785  1:30.757  1:30.681   \n",
            "9137        9178    1074       832         3  1:31.567  1:30.787  1:30.687   \n",
            "9138        9179    1074       815         4  1:32.311  1:31.008  1:30.921   \n",
            "9139        9180    1074         1         5  1:32.285  1:31.048  1:31.238   \n",
            "...          ...     ...       ...       ...       ...       ...       ...   \n",
            "10249      10307    1132       822        16  1:32.431        \\N        \\N   \n",
            "10250      10308    1132       825        17  1:32.905        \\N        \\N   \n",
            "10251      10309    1132       839        18  1:34.557        \\N        \\N   \n",
            "10252      10310    1132       815        19  1:38.348        \\N        \\N   \n",
            "10253      10311    1132       842        20  1:39.804        \\N        \\N   \n",
            "\n",
            "         q1_ms    q2_ms    q3_ms  fastest_qualifying_ms fastest_qualifying  \n",
            "9135   91471.0  90932.0  90558.0                90558.0           1:30.558  \n",
            "9136   91785.0  90757.0  90681.0                90681.0           1:30.681  \n",
            "9137   91567.0  90787.0  90687.0                90687.0           1:30.687  \n",
            "9138   92311.0  91008.0  90921.0                90921.0           1:30.921  \n",
            "9139   92285.0  91048.0  91238.0                91048.0           1:31.048  \n",
            "...        ...      ...      ...                    ...                ...  \n",
            "10249  92431.0      NaN      NaN                92431.0           1:32.431  \n",
            "10250  92905.0      NaN      NaN                92905.0           1:32.905  \n",
            "10251  94557.0      NaN      NaN                94557.0           1:34.557  \n",
            "10252  98348.0      NaN      NaN                98348.0           1:38.348  \n",
            "10253  99804.0      NaN      NaN                99804.0           1:39.804  \n",
            "\n",
            "[1119 rows x 12 columns]\n"
          ]
        }
      ]
    },
    {
      "cell_type": "markdown",
      "source": [
        "Agora a criação do dataframe 'df', contendo todas as informações separadas anteriormente."
      ],
      "metadata": {
        "id": "OiI_7BGQRa9-"
      }
    },
    {
      "cell_type": "code",
      "source": [
        "df = pd.merge(df_results, df_races, on ='raceId', how='left')"
      ],
      "metadata": {
        "id": "4g5Af8TADLmM"
      },
      "execution_count": 12,
      "outputs": []
    },
    {
      "cell_type": "code",
      "source": [
        "df = pd.merge(df, df_circuits, on='circuitId', how='left')"
      ],
      "metadata": {
        "id": "e4pCniGV2-1p"
      },
      "execution_count": 13,
      "outputs": []
    },
    {
      "cell_type": "code",
      "source": [
        "df = pd.merge(df, df_qualifying, how='left',\n",
        "                  left_on=['raceId', 'driverId'],\n",
        "                  right_on=['raceId', 'driverId'])"
      ],
      "metadata": {
        "id": "OmFBvhCu-OTg"
      },
      "execution_count": 14,
      "outputs": []
    },
    {
      "cell_type": "code",
      "source": [
        "df = df[['fastestLapTime_ms','driverId','circuitId','constructorId','round','alt','fastest_qualifying_ms']]"
      ],
      "metadata": {
        "id": "5ozo9wVd2PrR"
      },
      "execution_count": 15,
      "outputs": []
    },
    {
      "cell_type": "code",
      "source": [
        "print(df)"
      ],
      "metadata": {
        "colab": {
          "base_uri": "https://localhost:8080/"
        },
        "id": "5lBCmi1x-5PA",
        "outputId": "cccbe017-a31d-40d0-b2ab-c8a12b981933"
      },
      "execution_count": 16,
      "outputs": [
        {
          "output_type": "stream",
          "name": "stdout",
          "text": [
            "      fastestLapTime_ms  driverId  circuitId  constructorId  round  alt  \\\n",
            "0               94570.0       844          3              6      1    7   \n",
            "1               95740.0       832          3              6      1    7   \n",
            "2               96228.0         1          3            131      1    7   \n",
            "3               96302.0       847          3            131      1    7   \n",
            "4               96623.0       825          3            210      1    7   \n",
            "...                 ...       ...        ...            ...    ...  ...   \n",
            "1114            90875.0       839          9            214     12  153   \n",
            "1115            89707.0       815          9              9     12  153   \n",
            "1116            91014.0       855          9             15     12  153   \n",
            "1117            91298.0       847          9            131     12  153   \n",
            "1118                NaN       842          9            214     12  153   \n",
            "\n",
            "      fastest_qualifying_ms  \n",
            "0                   90558.0  \n",
            "1                   90687.0  \n",
            "2                   91048.0  \n",
            "3                   91252.0  \n",
            "4                   91461.0  \n",
            "...                     ...  \n",
            "1114                94557.0  \n",
            "1115                98348.0  \n",
            "1116                87867.0  \n",
            "1117                85819.0  \n",
            "1118                99804.0  \n",
            "\n",
            "[1119 rows x 7 columns]\n"
          ]
        }
      ]
    },
    {
      "cell_type": "markdown",
      "source": [
        "# Preparo do modelo"
      ],
      "metadata": {
        "id": "89LTO8rJRhhc"
      }
    },
    {
      "cell_type": "markdown",
      "source": [
        "Ajuste de variáveis categóricas e separação do X e Y, ou seja, variáveis de entrada e a variável alvo."
      ],
      "metadata": {
        "id": "DGwJm9tPSe5u"
      }
    },
    {
      "cell_type": "code",
      "source": [
        "data = df.dropna()\n",
        "\n",
        "data_encoded = pd.get_dummies(data, columns=['circuitId','driverId','constructorId'], drop_first=True)\n",
        "\n",
        "X = data_encoded.drop('fastestLapTime_ms', axis=1)\n",
        "y = data_encoded['fastestLapTime_ms']"
      ],
      "metadata": {
        "id": "L8URM8Bn-6ff"
      },
      "execution_count": 17,
      "outputs": []
    },
    {
      "cell_type": "markdown",
      "source": [
        "Separação da base em treino/teste, além de especificar a validação cruzada. Número de partições estabelecido em 20."
      ],
      "metadata": {
        "id": "lQ5K-NObSsS_"
      }
    },
    {
      "cell_type": "code",
      "source": [
        "X_train, X_test, y_train, y_test = train_test_split(X, y, test_size=0.2, random_state=33)\n",
        "\n",
        "num_particoes = 10\n",
        "kfold = KFold(n_splits=num_particoes, shuffle=True, random_state=33)"
      ],
      "metadata": {
        "id": "EK1Q_7Dq_ayA"
      },
      "execution_count": 18,
      "outputs": []
    },
    {
      "cell_type": "markdown",
      "source": [
        "Seleção dos modelos a serem utilizados para teste.\n",
        "\n",
        "Os modelos lasso e SVM foram descartados por apresentarem resultados muito distantes."
      ],
      "metadata": {
        "id": "svLYGRTqTZ5u"
      }
    },
    {
      "cell_type": "code",
      "source": [
        "models = []\n",
        "results = []\n",
        "names = []\n",
        "\n",
        "models.append(('RF', RandomForestRegressor()))\n",
        "models.append(('LR', LinearRegression()))\n",
        "models.append(('Ridge', Ridge()))\n",
        "#models.append(('Lasso', Lasso()))\n",
        "models.append(('KNN', KNeighborsRegressor()))\n",
        "models.append(('CART', DecisionTreeRegressor()))\n",
        "#models.append(('SVM', SVR()))\n",
        "\n",
        "for name, model in models:\n",
        "  cv_results = cross_val_score(model, X_train, y_train, cv=kfold, scoring='neg_mean_squared_error')\n",
        "  results.append(cv_results)\n",
        "  names.append(name)\n",
        "  msg = \"%s: MSE %0.2f (%0.2f) - RMSE %0.2f\" % (name, abs(cv_results.mean()), cv_results.std(), np.sqrt(abs(cv_results.mean())))\n",
        "  print(msg)"
      ],
      "metadata": {
        "colab": {
          "base_uri": "https://localhost:8080/"
        },
        "id": "37eEfy5lJaYI",
        "outputId": "6e80baa0-9c9c-4c98-aa6e-b52fc0233a6b"
      },
      "execution_count": 19,
      "outputs": [
        {
          "output_type": "stream",
          "name": "stdout",
          "text": [
            "RF: MSE 3719616.57 (2641478.19) - RMSE 1928.63\n",
            "LR: MSE 5066864.87 (3062202.00) - RMSE 2250.97\n",
            "Ridge: MSE 5661834.15 (3252007.88) - RMSE 2379.46\n",
            "KNN: MSE 14042715.56 (4071628.32) - RMSE 3747.36\n",
            "CART: MSE 6810213.01 (5995834.18) - RMSE 2609.64\n"
          ]
        }
      ]
    },
    {
      "cell_type": "markdown",
      "source": [
        "# Análise de Resultados"
      ],
      "metadata": {
        "id": "qfFHTmMSX0BZ"
      }
    },
    {
      "cell_type": "markdown",
      "source": [
        "Gerando boxplot para o MSE de cada modelo, assim podendo comparar a dispersão do resultado de cada um.\n",
        "\n",
        "Percebemos que o modelo de regression forest tem o menor valor encontrado, apesar da sua mediana estar mais alta que a mediana do modelo de regressão linear.\n",
        "\n",
        "Por isso, seguiremos analisando apenas estes modelos a partir daqui."
      ],
      "metadata": {
        "id": "n5daTuCaV57D"
      }
    },
    {
      "cell_type": "markdown",
      "source": [
        "## Boxplot comparativo entre 5 modelos pré-escolhidos"
      ],
      "metadata": {
        "id": "5IGl-v4_-fuL"
      }
    },
    {
      "cell_type": "code",
      "source": [
        "fig = plt.figure()\n",
        "fig.suptitle('Comparação do MSE dos Modelos')\n",
        "ax = fig.add_subplot(111)\n",
        "plt.boxplot(results)\n",
        "ax.set_xticklabels(names)\n",
        "plt.show()"
      ],
      "metadata": {
        "colab": {
          "base_uri": "https://localhost:8080/",
          "height": 478
        },
        "id": "_4wHx6gPS4Rk",
        "outputId": "3052a4fa-385c-4d3a-8f86-4cdb0c0e2a04"
      },
      "execution_count": 20,
      "outputs": [
        {
          "output_type": "display_data",
          "data": {
            "text/plain": [
              "<Figure size 640x480 with 1 Axes>"
            ],
            "image/png": "[encoded data removed]"
          },
          "metadata": {}
        }
      ]
    },
    {
      "cell_type": "markdown",
      "source": [
        "## Regressão"
      ],
      "metadata": {
        "id": "bH2ay7B4-lru"
      }
    },
    {
      "cell_type": "markdown",
      "source": [
        "Retreinando um modelo com regressão linear sem validação cruzada.\n",
        "\n",
        "Usaremos os coeficientes para entender um pouco da relação entre as variáveis e o melhor tempo de volta para cada situação."
      ],
      "metadata": {
        "id": "y6RQef-q7bcD"
      }
    },
    {
      "cell_type": "code",
      "source": [
        "model_rl = LinearRegression()\n",
        "model_rl.fit(X_train, y_train)"
      ],
      "metadata": {
        "colab": {
          "base_uri": "https://localhost:8080/",
          "height": 80
        },
        "id": "-_9xe9Yw7XTD",
        "outputId": "ef75df64-7eab-4a16-b73f-ae08d6640cd6"
      },
      "execution_count": 21,
      "outputs": [
        {
          "output_type": "execute_result",
          "data": {
            "text/plain": [
              "LinearRegression()"
            ],
            "text/html": [
              "<style>#sk-container-id-1 {\n",
              "  /* Definition of color scheme common for light and dark mode */\n",
              "  --sklearn-color-text: black;\n",
              "  --sklearn-color-line: gray;\n",
              "  /* Definition of color scheme for unfitted estimators */\n",
              "  --sklearn-color-unfitted-level-0: #fff5e6;\n",
              "  --sklearn-color-unfitted-level-1: #f6e4d2;\n",
              "  --sklearn-color-unfitted-level-2: #ffe0b3;\n",
              "  --sklearn-color-unfitted-level-3: chocolate;\n",
              "  /* Definition of color scheme for fitted estimators */\n",
              "  --sklearn-color-fitted-level-0: #f0f8ff;\n",
              "  --sklearn-color-fitted-level-1: #d4ebff;\n",
              "  --sklearn-color-fitted-level-2: #b3dbfd;\n",
              "  --sklearn-color-fitted-level-3: cornflowerblue;\n",
              "\n",
              "  /* Specific color for light theme */\n",
              "  --sklearn-color-text-on-default-background: var(--sg-text-color, var(--theme-code-foreground, var(--jp-content-font-color1, black)));\n",
              "  --sklearn-color-background: var(--sg-background-color, var(--theme-background, var(--jp-layout-color0, white)));\n",
              "  --sklearn-color-border-box: var(--sg-text-color, var(--theme-code-foreground, var(--jp-content-font-color1, black)));\n",
              "  --sklearn-color-icon: #696969;\n",
              "\n",
              "  @media (prefers-color-scheme: dark) {\n",
              "    /* Redefinition of color scheme for dark theme */\n",
              "    --sklearn-color-text-on-default-background: var(--sg-text-color, var(--theme-code-foreground, var(--jp-content-font-color1, white)));\n",
              "    --sklearn-color-background: var(--sg-background-color, var(--theme-background, var(--jp-layout-color0, #111)));\n",
              "    --sklearn-color-border-box: var(--sg-text-color, var(--theme-code-foreground, var(--jp-content-font-color1, white)));\n",
              "    --sklearn-color-icon: #878787;\n",
              "  }\n",
              "}\n",
              "\n",
              "#sk-container-id-1 {\n",
              "  color: var(--sklearn-color-text);\n",
              "}\n",
              "\n",
              "#sk-container-id-1 pre {\n",
              "  padding: 0;\n",
              "}\n",
              "\n",
              "#sk-container-id-1 input.sk-hidden--visually {\n",
              "  border: 0;\n",
              "  clip: rect(1px 1px 1px 1px);\n",
              "  clip: rect(1px, 1px, 1px, 1px);\n",
              "  height: 1px;\n",
              "  margin: -1px;\n",
              "  overflow: hidden;\n",
              "  padding: 0;\n",
              "  position: absolute;\n",
              "  width: 1px;\n",
              "}\n",
              "\n",
              "#sk-container-id-1 div.sk-dashed-wrapped {\n",
              "  border: 1px dashed var(--sklearn-color-line);\n",
              "  margin: 0 0.4em 0.5em 0.4em;\n",
              "  box-sizing: border-box;\n",
              "  padding-bottom: 0.4em;\n",
              "  background-color: var(--sklearn-color-background);\n",
              "}\n",
              "\n",
              "#sk-container-id-1 div.sk-container {\n",
              "  /* jupyter's `normalize.less` sets `[hidden] { display: none; }`\n",
              "     but bootstrap.min.css set `[hidden] { display: none !important; }`\n",
              "     so we also need the `!important` here to be able to override the\n",
              "     default hidden behavior on the sphinx rendered scikit-learn.org.\n",
              "     See: https://github.com/scikit-learn/scikit-learn/issues/21755 */\n",
              "  display: inline-block !important;\n",
              "  position: relative;\n",
              "}\n",
              "\n",
              "#sk-container-id-1 div.sk-text-repr-fallback {\n",
              "  display: none;\n",
              "}\n",
              "\n",
              "div.sk-parallel-item,\n",
              "div.sk-serial,\n",
              "div.sk-item {\n",
              "  /* draw centered vertical line to link estimators */\n",
              "  background-image: linear-gradient(var(--sklearn-color-text-on-default-background), var(--sklearn-color-text-on-default-background));\n",
              "  background-size: 2px 100%;\n",
              "  background-repeat: no-repeat;\n",
              "  background-position: center center;\n",
              "}\n",
              "\n",
              "/* Parallel-specific style estimator block */\n",
              "\n",
              "#sk-container-id-1 div.sk-parallel-item::after {\n",
              "  content: \"\";\n",
              "  width: 100%;\n",
              "  border-bottom: 2px solid var(--sklearn-color-text-on-default-background);\n",
              "  flex-grow: 1;\n",
              "}\n",
              "\n",
              "#sk-container-id-1 div.sk-parallel {\n",
              "  display: flex;\n",
              "  align-items: stretch;\n",
              "  justify-content: center;\n",
              "  background-color: var(--sklearn-color-background);\n",
              "  position: relative;\n",
              "}\n",
              "\n",
              "#sk-container-id-1 div.sk-parallel-item {\n",
              "  display: flex;\n",
              "  flex-direction: column;\n",
              "}\n",
              "\n",
              "#sk-container-id-1 div.sk-parallel-item:first-child::after {\n",
              "  align-self: flex-end;\n",
              "  width: 50%;\n",
              "}\n",
              "\n",
              "#sk-container-id-1 div.sk-parallel-item:last-child::after {\n",
              "  align-self: flex-start;\n",
              "  width: 50%;\n",
              "}\n",
              "\n",
              "#sk-container-id-1 div.sk-parallel-item:only-child::after {\n",
              "  width: 0;\n",
              "}\n",
              "\n",
              "/* Serial-specific style estimator block */\n",
              "\n",
              "#sk-container-id-1 div.sk-serial {\n",
              "  display: flex;\n",
              "  flex-direction: column;\n",
              "  align-items: center;\n",
              "  background-color: var(--sklearn-color-background);\n",
              "  padding-right: 1em;\n",
              "  padding-left: 1em;\n",
              "}\n",
              "\n",
              "\n",
              "/* Toggleable style: style used for estimator/Pipeline/ColumnTransformer box that is\n",
              "clickable and can be expanded/collapsed.\n",
              "- Pipeline and ColumnTransformer use this feature and define the default style\n",
              "- Estimators will overwrite some part of the style using the `sk-estimator` class\n",
              "*/\n",
              "\n",
              "/* Pipeline and ColumnTransformer style (default) */\n",
              "\n",
              "#sk-container-id-1 div.sk-toggleable {\n",
              "  /* Default theme specific background. It is overwritten whether we have a\n",
              "  specific estimator or a Pipeline/ColumnTransformer */\n",
              "  background-color: var(--sklearn-color-background);\n",
              "}\n",
              "\n",
              "/* Toggleable label */\n",
              "#sk-container-id-1 label.sk-toggleable__label {\n",
              "  cursor: pointer;\n",
              "  display: block;\n",
              "  width: 100%;\n",
              "  margin-bottom: 0;\n",
              "  padding: 0.5em;\n",
              "  box-sizing: border-box;\n",
              "  text-align: center;\n",
              "}\n",
              "\n",
              "#sk-container-id-1 label.sk-toggleable__label-arrow:before {\n",
              "  /* Arrow on the left of the label */\n",
              "  content: \"▸\";\n",
              "  float: left;\n",
              "  margin-right: 0.25em;\n",
              "  color: var(--sklearn-color-icon);\n",
              "}\n",
              "\n",
              "#sk-container-id-1 label.sk-toggleable__label-arrow:hover:before {\n",
              "  color: var(--sklearn-color-text);\n",
              "}\n",
              "\n",
              "/* Toggleable content - dropdown */\n",
              "\n",
              "#sk-container-id-1 div.sk-toggleable__content {\n",
              "  max-height: 0;\n",
              "  max-width: 0;\n",
              "  overflow: hidden;\n",
              "  text-align: left;\n",
              "  /* unfitted */\n",
              "  background-color: var(--sklearn-color-unfitted-level-0);\n",
              "}\n",
              "\n",
              "#sk-container-id-1 div.sk-toggleable__content.fitted {\n",
              "  /* fitted */\n",
              "  background-color: var(--sklearn-color-fitted-level-0);\n",
              "}\n",
              "\n",
              "#sk-container-id-1 div.sk-toggleable__content pre {\n",
              "  margin: 0.2em;\n",
              "  border-radius: 0.25em;\n",
              "  color: var(--sklearn-color-text);\n",
              "  /* unfitted */\n",
              "  background-color: var(--sklearn-color-unfitted-level-0);\n",
              "}\n",
              "\n",
              "#sk-container-id-1 div.sk-toggleable__content.fitted pre {\n",
              "  /* unfitted */\n",
              "  background-color: var(--sklearn-color-fitted-level-0);\n",
              "}\n",
              "\n",
              "#sk-container-id-1 input.sk-toggleable__control:checked~div.sk-toggleable__content {\n",
              "  /* Expand drop-down */\n",
              "  max-height: 200px;\n",
              "  max-width: 100%;\n",
              "  overflow: auto;\n",
              "}\n",
              "\n",
              "#sk-container-id-1 input.sk-toggleable__control:checked~label.sk-toggleable__label-arrow:before {\n",
              "  content: \"▾\";\n",
              "}\n",
              "\n",
              "/* Pipeline/ColumnTransformer-specific style */\n",
              "\n",
              "#sk-container-id-1 div.sk-label input.sk-toggleable__control:checked~label.sk-toggleable__label {\n",
              "  color: var(--sklearn-color-text);\n",
              "  background-color: var(--sklearn-color-unfitted-level-2);\n",
              "}\n",
              "\n",
              "#sk-container-id-1 div.sk-label.fitted input.sk-toggleable__control:checked~label.sk-toggleable__label {\n",
              "  background-color: var(--sklearn-color-fitted-level-2);\n",
              "}\n",
              "\n",
              "/* Estimator-specific style */\n",
              "\n",
              "/* Colorize estimator box */\n",
              "#sk-container-id-1 div.sk-estimator input.sk-toggleable__control:checked~label.sk-toggleable__label {\n",
              "  /* unfitted */\n",
              "  background-color: var(--sklearn-color-unfitted-level-2);\n",
              "}\n",
              "\n",
              "#sk-container-id-1 div.sk-estimator.fitted input.sk-toggleable__control:checked~label.sk-toggleable__label {\n",
              "  /* fitted */\n",
              "  background-color: var(--sklearn-color-fitted-level-2);\n",
              "}\n",
              "\n",
              "#sk-container-id-1 div.sk-label label.sk-toggleable__label,\n",
              "#sk-container-id-1 div.sk-label label {\n",
              "  /* The background is the default theme color */\n",
              "  color: var(--sklearn-color-text-on-default-background);\n",
              "}\n",
              "\n",
              "/* On hover, darken the color of the background */\n",
              "#sk-container-id-1 div.sk-label:hover label.sk-toggleable__label {\n",
              "  color: var(--sklearn-color-text);\n",
              "  background-color: var(--sklearn-color-unfitted-level-2);\n",
              "}\n",
              "\n",
              "/* Label box, darken color on hover, fitted */\n",
              "#sk-container-id-1 div.sk-label.fitted:hover label.sk-toggleable__label.fitted {\n",
              "  color: var(--sklearn-color-text);\n",
              "  background-color: var(--sklearn-color-fitted-level-2);\n",
              "}\n",
              "\n",
              "/* Estimator label */\n",
              "\n",
              "#sk-container-id-1 div.sk-label label {\n",
              "  font-family: monospace;\n",
              "  font-weight: bold;\n",
              "  display: inline-block;\n",
              "  line-height: 1.2em;\n",
              "}\n",
              "\n",
              "#sk-container-id-1 div.sk-label-container {\n",
              "  text-align: center;\n",
              "}\n",
              "\n",
              "/* Estimator-specific */\n",
              "#sk-container-id-1 div.sk-estimator {\n",
              "  font-family: monospace;\n",
              "  border: 1px dotted var(--sklearn-color-border-box);\n",
              "  border-radius: 0.25em;\n",
              "  box-sizing: border-box;\n",
              "  margin-bottom: 0.5em;\n",
              "  /* unfitted */\n",
              "  background-color: var(--sklearn-color-unfitted-level-0);\n",
              "}\n",
              "\n",
              "#sk-container-id-1 div.sk-estimator.fitted {\n",
              "  /* fitted */\n",
              "  background-color: var(--sklearn-color-fitted-level-0);\n",
              "}\n",
              "\n",
              "/* on hover */\n",
              "#sk-container-id-1 div.sk-estimator:hover {\n",
              "  /* unfitted */\n",
              "  background-color: var(--sklearn-color-unfitted-level-2);\n",
              "}\n",
              "\n",
              "#sk-container-id-1 div.sk-estimator.fitted:hover {\n",
              "  /* fitted */\n",
              "  background-color: var(--sklearn-color-fitted-level-2);\n",
              "}\n",
              "\n",
              "/* Specification for estimator info (e.g. \"i\" and \"?\") */\n",
              "\n",
              "/* Common style for \"i\" and \"?\" */\n",
              "\n",
              ".sk-estimator-doc-link,\n",
              "a:link.sk-estimator-doc-link,\n",
              "a:visited.sk-estimator-doc-link {\n",
              "  float: right;\n",
              "  font-size: smaller;\n",
              "  line-height: 1em;\n",
              "  font-family: monospace;\n",
              "  background-color: var(--sklearn-color-background);\n",
              "  border-radius: 1em;\n",
              "  height: 1em;\n",
              "  width: 1em;\n",
              "  text-decoration: none !important;\n",
              "  margin-left: 1ex;\n",
              "  /* unfitted */\n",
              "  border: var(--sklearn-color-unfitted-level-1) 1pt solid;\n",
              "  color: var(--sklearn-color-unfitted-level-1);\n",
              "}\n",
              "\n",
              ".sk-estimator-doc-link.fitted,\n",
              "a:link.sk-estimator-doc-link.fitted,\n",
              "a:visited.sk-estimator-doc-link.fitted {\n",
              "  /* fitted */\n",
              "  border: var(--sklearn-color-fitted-level-1) 1pt solid;\n",
              "  color: var(--sklearn-color-fitted-level-1);\n",
              "}\n",
              "\n",
              "/* On hover */\n",
              "div.sk-estimator:hover .sk-estimator-doc-link:hover,\n",
              ".sk-estimator-doc-link:hover,\n",
              "div.sk-label-container:hover .sk-estimator-doc-link:hover,\n",
              ".sk-estimator-doc-link:hover {\n",
              "  /* unfitted */\n",
              "  background-color: var(--sklearn-color-unfitted-level-3);\n",
              "  color: var(--sklearn-color-background);\n",
              "  text-decoration: none;\n",
              "}\n",
              "\n",
              "div.sk-estimator.fitted:hover .sk-estimator-doc-link.fitted:hover,\n",
              ".sk-estimator-doc-link.fitted:hover,\n",
              "div.sk-label-container:hover .sk-estimator-doc-link.fitted:hover,\n",
              ".sk-estimator-doc-link.fitted:hover {\n",
              "  /* fitted */\n",
              "  background-color: var(--sklearn-color-fitted-level-3);\n",
              "  color: var(--sklearn-color-background);\n",
              "  text-decoration: none;\n",
              "}\n",
              "\n",
              "/* Span, style for the box shown on hovering the info icon */\n",
              ".sk-estimator-doc-link span {\n",
              "  display: none;\n",
              "  z-index: 9999;\n",
              "  position: relative;\n",
              "  font-weight: normal;\n",
              "  right: .2ex;\n",
              "  padding: .5ex;\n",
              "  margin: .5ex;\n",
              "  width: min-content;\n",
              "  min-width: 20ex;\n",
              "  max-width: 50ex;\n",
              "  color: var(--sklearn-color-text);\n",
              "  box-shadow: 2pt 2pt 4pt #999;\n",
              "  /* unfitted */\n",
              "  background: var(--sklearn-color-unfitted-level-0);\n",
              "  border: .5pt solid var(--sklearn-color-unfitted-level-3);\n",
              "}\n",
              "\n",
              ".sk-estimator-doc-link.fitted span {\n",
              "  /* fitted */\n",
              "  background: var(--sklearn-color-fitted-level-0);\n",
              "  border: var(--sklearn-color-fitted-level-3);\n",
              "}\n",
              "\n",
              ".sk-estimator-doc-link:hover span {\n",
              "  display: block;\n",
              "}\n",
              "\n",
              "/* \"?\"-specific style due to the `<a>` HTML tag */\n",
              "\n",
              "#sk-container-id-1 a.estimator_doc_link {\n",
              "  float: right;\n",
              "  font-size: 1rem;\n",
              "  line-height: 1em;\n",
              "  font-family: monospace;\n",
              "  background-color: var(--sklearn-color-background);\n",
              "  border-radius: 1rem;\n",
              "  height: 1rem;\n",
              "  width: 1rem;\n",
              "  text-decoration: none;\n",
              "  /* unfitted */\n",
              "  color: var(--sklearn-color-unfitted-level-1);\n",
              "  border: var(--sklearn-color-unfitted-level-1) 1pt solid;\n",
              "}\n",
              "\n",
              "#sk-container-id-1 a.estimator_doc_link.fitted {\n",
              "  /* fitted */\n",
              "  border: var(--sklearn-color-fitted-level-1) 1pt solid;\n",
              "  color: var(--sklearn-color-fitted-level-1);\n",
              "}\n",
              "\n",
              "/* On hover */\n",
              "#sk-container-id-1 a.estimator_doc_link:hover {\n",
              "  /* unfitted */\n",
              "  background-color: var(--sklearn-color-unfitted-level-3);\n",
              "  color: var(--sklearn-color-background);\n",
              "  text-decoration: none;\n",
              "}\n",
              "\n",
              "#sk-container-id-1 a.estimator_doc_link.fitted:hover {\n",
              "  /* fitted */\n",
              "  background-color: var(--sklearn-color-fitted-level-3);\n",
              "}\n",
              "</style><div id=\"sk-container-id-1\" class=\"sk-top-container\"><div class=\"sk-text-repr-fallback\"><pre>LinearRegression()</pre><b>In a Jupyter environment, please rerun this cell to show the HTML representation or trust the notebook. <br />On GitHub, the HTML representation is unable to render, please try loading this page with nbviewer.org.</b></div><div class=\"sk-container\" hidden><div class=\"sk-item\"><div class=\"sk-estimator fitted sk-toggleable\"><input class=\"sk-toggleable__control sk-hidden--visually\" id=\"sk-estimator-id-1\" type=\"checkbox\" checked><label for=\"sk-estimator-id-1\" class=\"sk-toggleable__label fitted sk-toggleable__label-arrow fitted\">&nbsp;&nbsp;LinearRegression<a class=\"sk-estimator-doc-link fitted\" rel=\"noreferrer\" target=\"_blank\" href=\"https://scikit-learn.org/1.5/modules/generated/sklearn.linear_model.LinearRegression.html\">?<span>Documentation for LinearRegression</span></a><span class=\"sk-estimator-doc-link fitted\">i<span>Fitted</span></span></label><div class=\"sk-toggleable__content fitted\"><pre>LinearRegression()</pre></div> </div></div></div></div>"
            ]
          },
          "metadata": {},
          "execution_count": 21
        }
      ]
    },
    {
      "cell_type": "code",
      "source": [
        "coefs = pd.Series(model_rl.coef_, index=X_train.columns)\n",
        "\n",
        "coefs_df = coefs.to_frame(name='coefficients')\n",
        "coefs_df.index.name = 'feature'\n",
        "coefs_df = coefs_df.sort_values('coefficients', ascending=False)\n",
        "\n",
        "plt.figure(figsize=(10, 6))\n",
        "coefs_df['coefficients'].plot(kind='bar')\n",
        "plt.title('Coeficientes da Regressao Linear')\n",
        "plt.xlabel('Variavel')\n",
        "plt.ylabel('Coeficiente')\n",
        "plt.tight_layout()\n",
        "plt.show()"
      ],
      "metadata": {
        "colab": {
          "base_uri": "https://localhost:8080/",
          "height": 607
        },
        "id": "VMDqOrdMg9PN",
        "outputId": "a99c3535-1f52-423c-da2e-7d46215f1e91"
      },
      "execution_count": 22,
      "outputs": [
        {
          "output_type": "display_data",
          "data": {
            "text/plain": [
              "<Figure size 1000x600 with 1 Axes>"
            ],
            "image/png": "[encoded data removed]"
          },
          "metadata": {}
        }
      ]
    },
    {
      "cell_type": "markdown",
      "source": [
        "Aqui temos um gráfico onde podemos analisar o impacto de variáveis categóricas no resultado final da volta mais rápida.\n",
        "\n",
        "Especificamente sobre os circuitos, é perceptível identificar os circuitos com volta mais rápida e mais lenta. Por exemplo, os circuitos com id: 13, 73 e 17 tem volta muito mais lentas que a média. Enquanto os circuitos 70, 39 e 18, mais rápidas.\n",
        "\n",
        "Sobre construtores, percebemos uma superioridade da construtora_id 117, em comparação a 51, por exemplo. Isto é outro fato que reflete a realidade, visto que cada construtora possui um carro diferente com performance exclusiva.\n",
        "\n",
        "O mesmo raciocínio para os pilotos, onde o driver_id 857 por exemplo tende a ter voltas mais rápidas bem melhores que o driver_id 840."
      ],
      "metadata": {
        "id": "LGSOtuLV8t-5"
      }
    },
    {
      "cell_type": "markdown",
      "source": [
        "## Random Forest"
      ],
      "metadata": {
        "id": "eYZGhRXD-ZN6"
      }
    },
    {
      "cell_type": "markdown",
      "source": [
        "Aqui vamos regerar o modelo de Random Forest sem validação cruzada, afim de trazer uma ilustração gráfica sobre o impacto das variáveis."
      ],
      "metadata": {
        "id": "ok9HbShF9pOH"
      }
    },
    {
      "cell_type": "code",
      "source": [
        "model_rf = RandomForestRegressor(random_state=42, n_estimators=100)\n",
        "model_rf.fit(X_train, y_train)"
      ],
      "metadata": {
        "colab": {
          "base_uri": "https://localhost:8080/",
          "height": 80
        },
        "id": "v3pFhaww8lP2",
        "outputId": "7a12fbfd-9af2-46a9-ea0f-36c15d50284c"
      },
      "execution_count": 25,
      "outputs": [
        {
          "output_type": "execute_result",
          "data": {
            "text/plain": [
              "RandomForestRegressor(random_state=42)"
            ],
            "text/html": [
              "<style>#sk-container-id-2 {\n",
              "  /* Definition of color scheme common for light and dark mode */\n",
              "  --sklearn-color-text: black;\n",
              "  --sklearn-color-line: gray;\n",
              "  /* Definition of color scheme for unfitted estimators */\n",
              "  --sklearn-color-unfitted-level-0: #fff5e6;\n",
              "  --sklearn-color-unfitted-level-1: #f6e4d2;\n",
              "  --sklearn-color-unfitted-level-2: #ffe0b3;\n",
              "  --sklearn-color-unfitted-level-3: chocolate;\n",
              "  /* Definition of color scheme for fitted estimators */\n",
              "  --sklearn-color-fitted-level-0: #f0f8ff;\n",
              "  --sklearn-color-fitted-level-1: #d4ebff;\n",
              "  --sklearn-color-fitted-level-2: #b3dbfd;\n",
              "  --sklearn-color-fitted-level-3: cornflowerblue;\n",
              "\n",
              "  /* Specific color for light theme */\n",
              "  --sklearn-color-text-on-default-background: var(--sg-text-color, var(--theme-code-foreground, var(--jp-content-font-color1, black)));\n",
              "  --sklearn-color-background: var(--sg-background-color, var(--theme-background, var(--jp-layout-color0, white)));\n",
              "  --sklearn-color-border-box: var(--sg-text-color, var(--theme-code-foreground, var(--jp-content-font-color1, black)));\n",
              "  --sklearn-color-icon: #696969;\n",
              "\n",
              "  @media (prefers-color-scheme: dark) {\n",
              "    /* Redefinition of color scheme for dark theme */\n",
              "    --sklearn-color-text-on-default-background: var(--sg-text-color, var(--theme-code-foreground, var(--jp-content-font-color1, white)));\n",
              "    --sklearn-color-background: var(--sg-background-color, var(--theme-background, var(--jp-layout-color0, #111)));\n",
              "    --sklearn-color-border-box: var(--sg-text-color, var(--theme-code-foreground, var(--jp-content-font-color1, white)));\n",
              "    --sklearn-color-icon: #878787;\n",
              "  }\n",
              "}\n",
              "\n",
              "#sk-container-id-2 {\n",
              "  color: var(--sklearn-color-text);\n",
              "}\n",
              "\n",
              "#sk-container-id-2 pre {\n",
              "  padding: 0;\n",
              "}\n",
              "\n",
              "#sk-container-id-2 input.sk-hidden--visually {\n",
              "  border: 0;\n",
              "  clip: rect(1px 1px 1px 1px);\n",
              "  clip: rect(1px, 1px, 1px, 1px);\n",
              "  height: 1px;\n",
              "  margin: -1px;\n",
              "  overflow: hidden;\n",
              "  padding: 0;\n",
              "  position: absolute;\n",
              "  width: 1px;\n",
              "}\n",
              "\n",
              "#sk-container-id-2 div.sk-dashed-wrapped {\n",
              "  border: 1px dashed var(--sklearn-color-line);\n",
              "  margin: 0 0.4em 0.5em 0.4em;\n",
              "  box-sizing: border-box;\n",
              "  padding-bottom: 0.4em;\n",
              "  background-color: var(--sklearn-color-background);\n",
              "}\n",
              "\n",
              "#sk-container-id-2 div.sk-container {\n",
              "  /* jupyter's `normalize.less` sets `[hidden] { display: none; }`\n",
              "     but bootstrap.min.css set `[hidden] { display: none !important; }`\n",
              "     so we also need the `!important` here to be able to override the\n",
              "     default hidden behavior on the sphinx rendered scikit-learn.org.\n",
              "     See: https://github.com/scikit-learn/scikit-learn/issues/21755 */\n",
              "  display: inline-block !important;\n",
              "  position: relative;\n",
              "}\n",
              "\n",
              "#sk-container-id-2 div.sk-text-repr-fallback {\n",
              "  display: none;\n",
              "}\n",
              "\n",
              "div.sk-parallel-item,\n",
              "div.sk-serial,\n",
              "div.sk-item {\n",
              "  /* draw centered vertical line to link estimators */\n",
              "  background-image: linear-gradient(var(--sklearn-color-text-on-default-background), var(--sklearn-color-text-on-default-background));\n",
              "  background-size: 2px 100%;\n",
              "  background-repeat: no-repeat;\n",
              "  background-position: center center;\n",
              "}\n",
              "\n",
              "/* Parallel-specific style estimator block */\n",
              "\n",
              "#sk-container-id-2 div.sk-parallel-item::after {\n",
              "  content: \"\";\n",
              "  width: 100%;\n",
              "  border-bottom: 2px solid var(--sklearn-color-text-on-default-background);\n",
              "  flex-grow: 1;\n",
              "}\n",
              "\n",
              "#sk-container-id-2 div.sk-parallel {\n",
              "  display: flex;\n",
              "  align-items: stretch;\n",
              "  justify-content: center;\n",
              "  background-color: var(--sklearn-color-background);\n",
              "  position: relative;\n",
              "}\n",
              "\n",
              "#sk-container-id-2 div.sk-parallel-item {\n",
              "  display: flex;\n",
              "  flex-direction: column;\n",
              "}\n",
              "\n",
              "#sk-container-id-2 div.sk-parallel-item:first-child::after {\n",
              "  align-self: flex-end;\n",
              "  width: 50%;\n",
              "}\n",
              "\n",
              "#sk-container-id-2 div.sk-parallel-item:last-child::after {\n",
              "  align-self: flex-start;\n",
              "  width: 50%;\n",
              "}\n",
              "\n",
              "#sk-container-id-2 div.sk-parallel-item:only-child::after {\n",
              "  width: 0;\n",
              "}\n",
              "\n",
              "/* Serial-specific style estimator block */\n",
              "\n",
              "#sk-container-id-2 div.sk-serial {\n",
              "  display: flex;\n",
              "  flex-direction: column;\n",
              "  align-items: center;\n",
              "  background-color: var(--sklearn-color-background);\n",
              "  padding-right: 1em;\n",
              "  padding-left: 1em;\n",
              "}\n",
              "\n",
              "\n",
              "/* Toggleable style: style used for estimator/Pipeline/ColumnTransformer box that is\n",
              "clickable and can be expanded/collapsed.\n",
              "- Pipeline and ColumnTransformer use this feature and define the default style\n",
              "- Estimators will overwrite some part of the style using the `sk-estimator` class\n",
              "*/\n",
              "\n",
              "/* Pipeline and ColumnTransformer style (default) */\n",
              "\n",
              "#sk-container-id-2 div.sk-toggleable {\n",
              "  /* Default theme specific background. It is overwritten whether we have a\n",
              "  specific estimator or a Pipeline/ColumnTransformer */\n",
              "  background-color: var(--sklearn-color-background);\n",
              "}\n",
              "\n",
              "/* Toggleable label */\n",
              "#sk-container-id-2 label.sk-toggleable__label {\n",
              "  cursor: pointer;\n",
              "  display: block;\n",
              "  width: 100%;\n",
              "  margin-bottom: 0;\n",
              "  padding: 0.5em;\n",
              "  box-sizing: border-box;\n",
              "  text-align: center;\n",
              "}\n",
              "\n",
              "#sk-container-id-2 label.sk-toggleable__label-arrow:before {\n",
              "  /* Arrow on the left of the label */\n",
              "  content: \"▸\";\n",
              "  float: left;\n",
              "  margin-right: 0.25em;\n",
              "  color: var(--sklearn-color-icon);\n",
              "}\n",
              "\n",
              "#sk-container-id-2 label.sk-toggleable__label-arrow:hover:before {\n",
              "  color: var(--sklearn-color-text);\n",
              "}\n",
              "\n",
              "/* Toggleable content - dropdown */\n",
              "\n",
              "#sk-container-id-2 div.sk-toggleable__content {\n",
              "  max-height: 0;\n",
              "  max-width: 0;\n",
              "  overflow: hidden;\n",
              "  text-align: left;\n",
              "  /* unfitted */\n",
              "  background-color: var(--sklearn-color-unfitted-level-0);\n",
              "}\n",
              "\n",
              "#sk-container-id-2 div.sk-toggleable__content.fitted {\n",
              "  /* fitted */\n",
              "  background-color: var(--sklearn-color-fitted-level-0);\n",
              "}\n",
              "\n",
              "#sk-container-id-2 div.sk-toggleable__content pre {\n",
              "  margin: 0.2em;\n",
              "  border-radius: 0.25em;\n",
              "  color: var(--sklearn-color-text);\n",
              "  /* unfitted */\n",
              "  background-color: var(--sklearn-color-unfitted-level-0);\n",
              "}\n",
              "\n",
              "#sk-container-id-2 div.sk-toggleable__content.fitted pre {\n",
              "  /* unfitted */\n",
              "  background-color: var(--sklearn-color-fitted-level-0);\n",
              "}\n",
              "\n",
              "#sk-container-id-2 input.sk-toggleable__control:checked~div.sk-toggleable__content {\n",
              "  /* Expand drop-down */\n",
              "  max-height: 200px;\n",
              "  max-width: 100%;\n",
              "  overflow: auto;\n",
              "}\n",
              "\n",
              "#sk-container-id-2 input.sk-toggleable__control:checked~label.sk-toggleable__label-arrow:before {\n",
              "  content: \"▾\";\n",
              "}\n",
              "\n",
              "/* Pipeline/ColumnTransformer-specific style */\n",
              "\n",
              "#sk-container-id-2 div.sk-label input.sk-toggleable__control:checked~label.sk-toggleable__label {\n",
              "  color: var(--sklearn-color-text);\n",
              "  background-color: var(--sklearn-color-unfitted-level-2);\n",
              "}\n",
              "\n",
              "#sk-container-id-2 div.sk-label.fitted input.sk-toggleable__control:checked~label.sk-toggleable__label {\n",
              "  background-color: var(--sklearn-color-fitted-level-2);\n",
              "}\n",
              "\n",
              "/* Estimator-specific style */\n",
              "\n",
              "/* Colorize estimator box */\n",
              "#sk-container-id-2 div.sk-estimator input.sk-toggleable__control:checked~label.sk-toggleable__label {\n",
              "  /* unfitted */\n",
              "  background-color: var(--sklearn-color-unfitted-level-2);\n",
              "}\n",
              "\n",
              "#sk-container-id-2 div.sk-estimator.fitted input.sk-toggleable__control:checked~label.sk-toggleable__label {\n",
              "  /* fitted */\n",
              "  background-color: var(--sklearn-color-fitted-level-2);\n",
              "}\n",
              "\n",
              "#sk-container-id-2 div.sk-label label.sk-toggleable__label,\n",
              "#sk-container-id-2 div.sk-label label {\n",
              "  /* The background is the default theme color */\n",
              "  color: var(--sklearn-color-text-on-default-background);\n",
              "}\n",
              "\n",
              "/* On hover, darken the color of the background */\n",
              "#sk-container-id-2 div.sk-label:hover label.sk-toggleable__label {\n",
              "  color: var(--sklearn-color-text);\n",
              "  background-color: var(--sklearn-color-unfitted-level-2);\n",
              "}\n",
              "\n",
              "/* Label box, darken color on hover, fitted */\n",
              "#sk-container-id-2 div.sk-label.fitted:hover label.sk-toggleable__label.fitted {\n",
              "  color: var(--sklearn-color-text);\n",
              "  background-color: var(--sklearn-color-fitted-level-2);\n",
              "}\n",
              "\n",
              "/* Estimator label */\n",
              "\n",
              "#sk-container-id-2 div.sk-label label {\n",
              "  font-family: monospace;\n",
              "  font-weight: bold;\n",
              "  display: inline-block;\n",
              "  line-height: 1.2em;\n",
              "}\n",
              "\n",
              "#sk-container-id-2 div.sk-label-container {\n",
              "  text-align: center;\n",
              "}\n",
              "\n",
              "/* Estimator-specific */\n",
              "#sk-container-id-2 div.sk-estimator {\n",
              "  font-family: monospace;\n",
              "  border: 1px dotted var(--sklearn-color-border-box);\n",
              "  border-radius: 0.25em;\n",
              "  box-sizing: border-box;\n",
              "  margin-bottom: 0.5em;\n",
              "  /* unfitted */\n",
              "  background-color: var(--sklearn-color-unfitted-level-0);\n",
              "}\n",
              "\n",
              "#sk-container-id-2 div.sk-estimator.fitted {\n",
              "  /* fitted */\n",
              "  background-color: var(--sklearn-color-fitted-level-0);\n",
              "}\n",
              "\n",
              "/* on hover */\n",
              "#sk-container-id-2 div.sk-estimator:hover {\n",
              "  /* unfitted */\n",
              "  background-color: var(--sklearn-color-unfitted-level-2);\n",
              "}\n",
              "\n",
              "#sk-container-id-2 div.sk-estimator.fitted:hover {\n",
              "  /* fitted */\n",
              "  background-color: var(--sklearn-color-fitted-level-2);\n",
              "}\n",
              "\n",
              "/* Specification for estimator info (e.g. \"i\" and \"?\") */\n",
              "\n",
              "/* Common style for \"i\" and \"?\" */\n",
              "\n",
              ".sk-estimator-doc-link,\n",
              "a:link.sk-estimator-doc-link,\n",
              "a:visited.sk-estimator-doc-link {\n",
              "  float: right;\n",
              "  font-size: smaller;\n",
              "  line-height: 1em;\n",
              "  font-family: monospace;\n",
              "  background-color: var(--sklearn-color-background);\n",
              "  border-radius: 1em;\n",
              "  height: 1em;\n",
              "  width: 1em;\n",
              "  text-decoration: none !important;\n",
              "  margin-left: 1ex;\n",
              "  /* unfitted */\n",
              "  border: var(--sklearn-color-unfitted-level-1) 1pt solid;\n",
              "  color: var(--sklearn-color-unfitted-level-1);\n",
              "}\n",
              "\n",
              ".sk-estimator-doc-link.fitted,\n",
              "a:link.sk-estimator-doc-link.fitted,\n",
              "a:visited.sk-estimator-doc-link.fitted {\n",
              "  /* fitted */\n",
              "  border: var(--sklearn-color-fitted-level-1) 1pt solid;\n",
              "  color: var(--sklearn-color-fitted-level-1);\n",
              "}\n",
              "\n",
              "/* On hover */\n",
              "div.sk-estimator:hover .sk-estimator-doc-link:hover,\n",
              ".sk-estimator-doc-link:hover,\n",
              "div.sk-label-container:hover .sk-estimator-doc-link:hover,\n",
              ".sk-estimator-doc-link:hover {\n",
              "  /* unfitted */\n",
              "  background-color: var(--sklearn-color-unfitted-level-3);\n",
              "  color: var(--sklearn-color-background);\n",
              "  text-decoration: none;\n",
              "}\n",
              "\n",
              "div.sk-estimator.fitted:hover .sk-estimator-doc-link.fitted:hover,\n",
              ".sk-estimator-doc-link.fitted:hover,\n",
              "div.sk-label-container:hover .sk-estimator-doc-link.fitted:hover,\n",
              ".sk-estimator-doc-link.fitted:hover {\n",
              "  /* fitted */\n",
              "  background-color: var(--sklearn-color-fitted-level-3);\n",
              "  color: var(--sklearn-color-background);\n",
              "  text-decoration: none;\n",
              "}\n",
              "\n",
              "/* Span, style for the box shown on hovering the info icon */\n",
              ".sk-estimator-doc-link span {\n",
              "  display: none;\n",
              "  z-index: 9999;\n",
              "  position: relative;\n",
              "  font-weight: normal;\n",
              "  right: .2ex;\n",
              "  padding: .5ex;\n",
              "  margin: .5ex;\n",
              "  width: min-content;\n",
              "  min-width: 20ex;\n",
              "  max-width: 50ex;\n",
              "  color: var(--sklearn-color-text);\n",
              "  box-shadow: 2pt 2pt 4pt #999;\n",
              "  /* unfitted */\n",
              "  background: var(--sklearn-color-unfitted-level-0);\n",
              "  border: .5pt solid var(--sklearn-color-unfitted-level-3);\n",
              "}\n",
              "\n",
              ".sk-estimator-doc-link.fitted span {\n",
              "  /* fitted */\n",
              "  background: var(--sklearn-color-fitted-level-0);\n",
              "  border: var(--sklearn-color-fitted-level-3);\n",
              "}\n",
              "\n",
              ".sk-estimator-doc-link:hover span {\n",
              "  display: block;\n",
              "}\n",
              "\n",
              "/* \"?\"-specific style due to the `<a>` HTML tag */\n",
              "\n",
              "#sk-container-id-2 a.estimator_doc_link {\n",
              "  float: right;\n",
              "  font-size: 1rem;\n",
              "  line-height: 1em;\n",
              "  font-family: monospace;\n",
              "  background-color: var(--sklearn-color-background);\n",
              "  border-radius: 1rem;\n",
              "  height: 1rem;\n",
              "  width: 1rem;\n",
              "  text-decoration: none;\n",
              "  /* unfitted */\n",
              "  color: var(--sklearn-color-unfitted-level-1);\n",
              "  border: var(--sklearn-color-unfitted-level-1) 1pt solid;\n",
              "}\n",
              "\n",
              "#sk-container-id-2 a.estimator_doc_link.fitted {\n",
              "  /* fitted */\n",
              "  border: var(--sklearn-color-fitted-level-1) 1pt solid;\n",
              "  color: var(--sklearn-color-fitted-level-1);\n",
              "}\n",
              "\n",
              "/* On hover */\n",
              "#sk-container-id-2 a.estimator_doc_link:hover {\n",
              "  /* unfitted */\n",
              "  background-color: var(--sklearn-color-unfitted-level-3);\n",
              "  color: var(--sklearn-color-background);\n",
              "  text-decoration: none;\n",
              "}\n",
              "\n",
              "#sk-container-id-2 a.estimator_doc_link.fitted:hover {\n",
              "  /* fitted */\n",
              "  background-color: var(--sklearn-color-fitted-level-3);\n",
              "}\n",
              "</style><div id=\"sk-container-id-2\" class=\"sk-top-container\"><div class=\"sk-text-repr-fallback\"><pre>RandomForestRegressor(random_state=42)</pre><b>In a Jupyter environment, please rerun this cell to show the HTML representation or trust the notebook. <br />On GitHub, the HTML representation is unable to render, please try loading this page with nbviewer.org.</b></div><div class=\"sk-container\" hidden><div class=\"sk-item\"><div class=\"sk-estimator fitted sk-toggleable\"><input class=\"sk-toggleable__control sk-hidden--visually\" id=\"sk-estimator-id-2\" type=\"checkbox\" checked><label for=\"sk-estimator-id-2\" class=\"sk-toggleable__label fitted sk-toggleable__label-arrow fitted\">&nbsp;&nbsp;RandomForestRegressor<a class=\"sk-estimator-doc-link fitted\" rel=\"noreferrer\" target=\"_blank\" href=\"https://scikit-learn.org/1.5/modules/generated/sklearn.ensemble.RandomForestRegressor.html\">?<span>Documentation for RandomForestRegressor</span></a><span class=\"sk-estimator-doc-link fitted\">i<span>Fitted</span></span></label><div class=\"sk-toggleable__content fitted\"><pre>RandomForestRegressor(random_state=42)</pre></div> </div></div></div></div>"
            ]
          },
          "metadata": {},
          "execution_count": 25
        }
      ]
    },
    {
      "cell_type": "code",
      "source": [
        "y_pred_rf = model_rf.predict(X_test)"
      ],
      "metadata": {
        "id": "STTgqV9j_uAA"
      },
      "execution_count": 26,
      "outputs": []
    },
    {
      "cell_type": "markdown",
      "source": [
        "Uma análise rápida do RMSE diz um pouco sobre os resultados. A unidade em questão é milissegundos, ou seja, o RMSE está em 2,8s. Dentro do universo da fórmula 1, este número pode ser interpretado de algumas formas.\n",
        "\n",
        "Dentro do mesmo circuito e com condições parecidas (horário, rodada, equipe), um intervalo de 2s é suficiente para abranger todas as melhores voltas dos pilotos, salvo raras ocasiões.\n",
        "\n",
        "Porém, variando-se o circuito, e somado a todas outras condições, 2s é um intervalo muito pequeno ao tentar prever a melhor volta em uma determinada perspectiva, visto que existe uma grande variação local a local."
      ],
      "metadata": {
        "id": "AYXFv_6C9vIK"
      }
    },
    {
      "cell_type": "code",
      "source": [
        "# Avaliar desempenho\n",
        "rmse = np.sqrt(mean_squared_error(y_test, y_pred_rf))\n",
        "r2 = r2_score(y_test, y_pred_rf)\n",
        "\n",
        "print(f\"RMSE: {rmse}\")\n",
        "print(f\"R²: {r2}\")"
      ],
      "metadata": {
        "colab": {
          "base_uri": "https://localhost:8080/"
        },
        "id": "GNsK4Fj3_vpY",
        "outputId": "d1a41b6e-ec16-4e12-a06d-de671adf6fbc"
      },
      "execution_count": 27,
      "outputs": [
        {
          "output_type": "stream",
          "name": "stdout",
          "text": [
            "RMSE: 2870.8379244615817\n",
            "R²: 0.9427689493302894\n"
          ]
        }
      ]
    },
    {
      "cell_type": "code",
      "source": [
        "!pip install shap\n",
        "import shap\n",
        "\n",
        "explainer = shap.TreeExplainer(model_rf)\n",
        "shap_values = explainer.shap_values(X)"
      ],
      "metadata": {
        "id": "zySKtkPfDRri",
        "colab": {
          "base_uri": "https://localhost:8080/"
        },
        "outputId": "e1abd8d6-ff5d-433d-8459-b1be2c2b06e6"
      },
      "execution_count": 28,
      "outputs": [
        {
          "output_type": "stream",
          "name": "stdout",
          "text": [
            "Requirement already satisfied: shap in /usr/local/lib/python3.10/dist-packages (0.46.0)\n",
            "Requirement already satisfied: numpy in /usr/local/lib/python3.10/dist-packages (from shap) (1.26.4)\n",
            "Requirement already satisfied: scipy in /usr/local/lib/python3.10/dist-packages (from shap) (1.13.1)\n",
            "Requirement already satisfied: scikit-learn in /usr/local/lib/python3.10/dist-packages (from shap) (1.5.2)\n",
            "Requirement already satisfied: pandas in /usr/local/lib/python3.10/dist-packages (from shap) (2.2.2)\n",
            "Requirement already satisfied: tqdm>=4.27.0 in /usr/local/lib/python3.10/dist-packages (from shap) (4.66.6)\n",
            "Requirement already satisfied: packaging>20.9 in /usr/local/lib/python3.10/dist-packages (from shap) (24.2)\n",
            "Requirement already satisfied: slicer==0.0.8 in /usr/local/lib/python3.10/dist-packages (from shap) (0.0.8)\n",
            "Requirement already satisfied: numba in /usr/local/lib/python3.10/dist-packages (from shap) (0.60.0)\n",
            "Requirement already satisfied: cloudpickle in /usr/local/lib/python3.10/dist-packages (from shap) (3.1.0)\n",
            "Requirement already satisfied: llvmlite<0.44,>=0.43.0dev0 in /usr/local/lib/python3.10/dist-packages (from numba->shap) (0.43.0)\n",
            "Requirement already satisfied: python-dateutil>=2.8.2 in /usr/local/lib/python3.10/dist-packages (from pandas->shap) (2.8.2)\n",
            "Requirement already satisfied: pytz>=2020.1 in /usr/local/lib/python3.10/dist-packages (from pandas->shap) (2024.2)\n",
            "Requirement already satisfied: tzdata>=2022.7 in /usr/local/lib/python3.10/dist-packages (from pandas->shap) (2024.2)\n",
            "Requirement already satisfied: joblib>=1.2.0 in /usr/local/lib/python3.10/dist-packages (from scikit-learn->shap) (1.4.2)\n",
            "Requirement already satisfied: threadpoolctl>=3.1.0 in /usr/local/lib/python3.10/dist-packages (from scikit-learn->shap) (3.5.0)\n",
            "Requirement already satisfied: six>=1.5 in /usr/local/lib/python3.10/dist-packages (from python-dateutil>=2.8.2->pandas->shap) (1.17.0)\n"
          ]
        }
      ]
    },
    {
      "cell_type": "markdown",
      "source": [
        "Aqui podemos fazer uma breve análise sobre o impacto das variáveis no resultado final.\n",
        "\n",
        "Como era de se esperar, o tempo da melhor volta na sessão de qualifying tem total conexão com o melhor tempo de volta na corrida. São dois tempos em que circuito, piloto e equipe afetam de forma parecidas.\n",
        "\n",
        "Este valor encontrado era esperado dentro do modelo."
      ],
      "metadata": {
        "id": "sASfH-4a_f2d"
      }
    },
    {
      "cell_type": "code",
      "source": [
        "shap.summary_plot(shap_values, X, plot_type=\"bar\")"
      ],
      "metadata": {
        "id": "pugwozi8Zfkm",
        "colab": {
          "base_uri": "https://localhost:8080/",
          "height": 957
        },
        "outputId": "e6cdae77-50d4-4f34-81bc-5a9c998e88cc"
      },
      "execution_count": 29,
      "outputs": [
        {
          "output_type": "display_data",
          "data": {
            "text/plain": [
              "<Figure size 800x950 with 1 Axes>"
            ],
            "image/png": "[encoded data removed]"
          },
          "metadata": {}
        }
      ]
    },
    {
      "cell_type": "markdown",
      "source": [
        "Abaixo podemos analisar o impacto de cada variável, tendendo o resultado final para cima ou para baixo. Como descrito acima, a melhor volta no qualifying afeta para ambas direções o resultados.\n",
        "\n",
        "Já a rodada dentro do campeonato por exemplo, tende a afetar para cima a duração da maior volta. Isto pode ocorrer por diversos motivos dentro do contexto da F1, como: carros e equipamentos mais desgastados, menor discrepância entre equipes, e circuitos mais exigentes no final da temporada.\n",
        "\n",
        "Podemos confirmar os circuitos 7 e 9 como os mais rápidos da temporada, enquanto por exemplo o piloto driver_825 tende a ser o mais devagar entre seus concorrentes."
      ],
      "metadata": {
        "id": "eOK92urr_x1o"
      }
    },
    {
      "cell_type": "code",
      "source": [
        "shap.summary_plot(shap_values, X)"
      ],
      "metadata": {
        "colab": {
          "base_uri": "https://localhost:8080/",
          "height": 957
        },
        "id": "vNz89S7y-7FB",
        "outputId": "f6e2bb23-2179-4ab2-cc35-3c8330eb60d3"
      },
      "execution_count": 30,
      "outputs": [
        {
          "output_type": "display_data",
          "data": {
            "text/plain": [
              "<Figure size 800x950 with 2 Axes>"
            ],
            "image/png": "[encoded data removed]"
          },
          "metadata": {}
        }
      ]
    },
    {
      "cell_type": "markdown",
      "source": [
        "# Considerações Finais"
      ],
      "metadata": {
        "id": "FjW7z6h7AV1J"
      }
    },
    {
      "cell_type": "markdown",
      "source": [
        "A base de dados encontrada no kaggle, apesar de faltar algumas informações climáticas que poderiam ser adicionadas com outra API, é muito completa e possui muitos dados para criação de modelos e exploração desse universo.\n",
        "\n",
        "A Fórmula 1, pela complexidade e grande variedade de elementos, permite uma série de possíveis desafios e modelos a serem desenvolvidos. Existem perguntas específicas para equipes, pilotos e pistas que podem ser amplamente respondidas. Além disso, nosso estudo foi baseado na melhor volta, enquanto o histórico possui o tempo de todas as voltas, o que permitiria uma análise muito mais profunda.\n",
        "\n",
        "Os modelos tiveram resultados relativamente parecidos, e algumas considerações sobre a escolha de variáveis foram percebidas. O trabalho futuro provavelmente seria na escolha delas, antes de se escolher o modelo ideal.\n",
        "\n",
        "Por termos 3 variáveis categóricas muito expressivas (circuito, piloto e equipe), a opção de se plotar a Random Forest e também a árvore de decisão ficou inviável vide a quantidade de elementos e terminações que seriam representadas. Mas isto reforça a ideia que modelos mais específicos tenderiam a ser mais assertivos.\n",
        "\n",
        "O tempo encontrado em praticamente todos os modelos (entre 2s e 3s), se tornou um resultado dúbio frente a grande variedade de circuitos. Existem pistas com tempo de volta entre 65s, enquanto outras com 115s. Ou seja, realizando um trabalho de modelos por pistas, teríamos uma precisão frente ao tempo de volta muito mais assertiva."
      ],
      "metadata": {
        "id": "dxVss5gHAxFg"
      }
    },
    {
      "cell_type": "code",
      "source": [],
      "metadata": {
        "id": "BsLytHtDBk-h"
      },
      "execution_count": 30,
      "outputs": []
    }
  ]
}